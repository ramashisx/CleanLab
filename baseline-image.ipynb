{
 "cells": [
  {
   "cell_type": "markdown",
   "id": "c6f5d393",
   "metadata": {},
   "source": [
    "# Imports"
   ]
  },
  {
   "cell_type": "code",
   "execution_count": 1,
   "id": "acc93cd5",
   "metadata": {},
   "outputs": [],
   "source": [
    "import matplotlib.pyplot as plt\n",
    "import pandas as pd\n",
    "import numpy as np\n",
    "import torch\n",
    "\n",
    "from torch import nn\n",
    "from sklearn.model_selection import cross_val_predict\n",
    "from sklearn.metrics import accuracy_score\n",
    "\n",
    "from numpy import asarray\n",
    "from PIL import Image"
   ]
  },
  {
   "cell_type": "markdown",
   "id": "80b7b9ce",
   "metadata": {},
   "source": [
    "# Helper Functions"
   ]
  },
  {
   "cell_type": "code",
   "execution_count": 2,
   "id": "49372991",
   "metadata": {},
   "outputs": [],
   "source": [
    "# Helper to convert given labels to 0-indexed (necessary for cleanlab and various ML processes).\n",
    "def labels_to_zeroidx(labels):\n",
    "    unique_labels = set(labels)\n",
    "    label2idx = dict(zip(unique_labels, range(len(unique_labels))))\n",
    "    return [label2idx[label] for label in labels]\n",
    "\n",
    "# Helper to get image data and transform into numpy tensor.\n",
    "def get_image_data(df, path_to_imgs):\n",
    "    # Our images are black and white, 60x60 pixels.\n",
    "    img_width, img_height = 60, 60\n",
    "    img_data = np.empty([len(df), img_width*img_height])\n",
    "    \n",
    "    # Iterate over each image name in the csv file\n",
    "    # - Read image, get pixel values, transform, reshape for PyTorch nn\n",
    "    img_names = df['img']\n",
    "    for i, img_name in enumerate(img_names):\n",
    "        img = Image.open(path_to_imgs+img_name)\n",
    "        data = np.array(img.getdata()).astype(\"float32\")\n",
    "        data /= 255.0 # Transform the pixels to 0 and 1\n",
    "        img_data[i] = data\n",
    "    img_data = img_data.astype(\"float32\")\n",
    "    img_data = img_data.reshape(len(df), 1, 60, 60)  # reshape into [N, C, H, W] for PyTorch\n",
    "    return img_data"
   ]
  },
  {
   "cell_type": "markdown",
   "id": "8d172b9e",
   "metadata": {},
   "source": [
    "# Data"
   ]
  },
  {
   "cell_type": "code",
   "execution_count": 3,
   "id": "bbf429fa",
   "metadata": {},
   "outputs": [],
   "source": [
    "# Read in label csvs. \n",
    "# Fill in TODO with path to files.\n",
    "path_to_train_csv = \"train-labels.csv\"\n",
    "path_to_test_csv = \"val-labels.csv\"\n",
    "train_df = pd.read_csv(path_to_train_csv)\n",
    "test_df = pd.read_csv(path_to_test_csv)\n",
    "\n",
    "# Training data.\n",
    "# Fill in TODO with path to images.\n",
    "path_to_train_imgs = 'train/'\n",
    "X_train = get_image_data(train_df, path_to_train_imgs)\n",
    "# Convert given labels to 0-indexes labels.\n",
    "y_train = np.array(labels_to_zeroidx(train_df['label']))\n",
    "\n",
    "# Test data.\n",
    "# Fill in TODO with path to images.\n",
    "path_to_test_imgs = 'val/'\n",
    "X_test = get_image_data(test_df, path_to_test_imgs)"
   ]
  },
  {
   "cell_type": "markdown",
   "id": "5178a993",
   "metadata": {},
   "source": [
    "# Baseline Model"
   ]
  },
  {
   "cell_type": "code",
   "execution_count": 4,
   "outputs": [
    {
     "data": {
      "text/plain": "array(['c', 'h', 'y', 'p', 'j', 'a', 'k', '3', 'q', '5', 'g', 'w', '2',\n       '4', 'v', 'z', 'm', 'l', 'd', 'f', 's', 'x', '7', 't', 'n', '8',\n       'e', 'o', 'r', 'u', 'b', '6', 'i'], dtype=object)"
     },
     "execution_count": 4,
     "metadata": {},
     "output_type": "execute_result"
    }
   ],
   "source": [
    "train_df.label.unique(\n",
    "\n",
    ")"
   ],
   "metadata": {
    "collapsed": false
   }
  },
  {
   "cell_type": "code",
   "execution_count": 5,
   "outputs": [
    {
     "data": {
      "text/plain": "<matplotlib.image.AxesImage at 0x7f132cec5df0>"
     },
     "execution_count": 5,
     "metadata": {},
     "output_type": "execute_result"
    },
    {
     "data": {
      "text/plain": "<Figure size 432x288 with 1 Axes>",
      "image/png": "[encoded data removed]"
     },
     "metadata": {
      "needs_background": "light"
     },
     "output_type": "display_data"
    }
   ],
   "source": [
    "plt.imshow(X_train[5].reshape(60, 60, 1))"
   ],
   "metadata": {
    "collapsed": false
   }
  },
  {
   "cell_type": "code",
   "execution_count": 5,
   "outputs": [],
   "source": [],
   "metadata": {
    "collapsed": false
   }
  },
  {
   "cell_type": "code",
   "execution_count": 5,
   "outputs": [],
   "source": [],
   "metadata": {
    "collapsed": false
   }
  },
  {
   "cell_type": "code",
   "execution_count": null,
   "outputs": [],
   "source": [],
   "metadata": {
    "collapsed": false
   }
  },
  {
   "cell_type": "code",
   "execution_count": 4,
   "id": "e411619d",
   "metadata": {},
   "outputs": [],
   "source": [
    "# Basic neural net.\n",
    "# Taken from cleanlab image tutorial: https://docs.cleanlab.ai/stable/tutorials/image.html\n",
    "class ClassifierModule(nn.Module):\n",
    "    def __init__(self):\n",
    "        super().__init__()\n",
    "\n",
    "        self.cnn = nn.Sequential(\n",
    "            nn.Conv2d(1, 6, 3),\n",
    "            nn.ReLU(),\n",
    "            nn.BatchNorm2d(6),\n",
    "            nn.MaxPool2d(kernel_size=2, stride=2),\n",
    "            nn.Conv2d(6, 16, 3),\n",
    "            nn.ReLU(),\n",
    "            nn.BatchNorm2d(16),\n",
    "            nn.MaxPool2d(kernel_size=2, stride=2),\n",
    "        )\n",
    "        self.out = nn.Sequential(\n",
    "            nn.Flatten(),\n",
    "            nn.LazyLinear(128),\n",
    "            nn.ReLU(),\n",
    "            nn.Linear(128, 33),\n",
    "            nn.Softmax(dim=-1),\n",
    "        )\n",
    "\n",
    "    def forward(self, X):\n",
    "        X = self.cnn(X)\n",
    "        X = self.out(X)\n",
    "        return X"
   ]
  },
  {
   "cell_type": "code",
   "execution_count": 5,
   "id": "f7bede47",
   "metadata": {},
   "outputs": [
    {
     "name": "stderr",
     "output_type": "stream",
     "text": [
      "/usr/local/lib/python3.10/site-packages/torch/nn/modules/lazy.py:180: UserWarning: Lazy modules are a new feature under heavy development so changes to the API or functionality can happen at any moment.\n",
      "  warnings.warn('Lazy modules are a new feature under heavy development '\n"
     ]
    },
    {
     "name": "stdout",
     "output_type": "stream",
     "text": [
      "  epoch    train_loss    valid_acc    valid_loss     dur\n",
      "-------  ------------  -----------  ------------  ------\n",
      "      1        \u001B[36m3.4839\u001B[0m       \u001B[32m0.0771\u001B[0m        \u001B[35m3.4442\u001B[0m  3.0213\n",
      "      2        \u001B[36m3.3586\u001B[0m       \u001B[32m0.1425\u001B[0m        \u001B[35m3.3149\u001B[0m  2.8818\n",
      "      3        \u001B[36m3.1063\u001B[0m       \u001B[32m0.2637\u001B[0m        \u001B[35m3.0076\u001B[0m  3.1198\n",
      "      4        \u001B[36m2.7173\u001B[0m       \u001B[32m0.3562\u001B[0m        \u001B[35m2.6954\u001B[0m  3.1553\n",
      "      5        \u001B[36m2.4011\u001B[0m       \u001B[32m0.4274\u001B[0m        \u001B[35m2.4949\u001B[0m  3.2858\n",
      "      6        \u001B[36m2.1748\u001B[0m       \u001B[32m0.4716\u001B[0m        \u001B[35m2.3595\u001B[0m  3.2343\n",
      "      7        \u001B[36m2.0002\u001B[0m       \u001B[32m0.5114\u001B[0m        \u001B[35m2.2686\u001B[0m  3.3558\n",
      "      8        \u001B[36m1.8561\u001B[0m       \u001B[32m0.5385\u001B[0m        \u001B[35m2.2015\u001B[0m  3.4019\n",
      "      9        \u001B[36m1.7303\u001B[0m       \u001B[32m0.5561\u001B[0m        \u001B[35m2.1540\u001B[0m  5.1551\n",
      "     10        \u001B[36m1.6164\u001B[0m       \u001B[32m0.5657\u001B[0m        \u001B[35m2.1185\u001B[0m  5.7436\n"
     ]
    }
   ],
   "source": [
    "# To ensure scikit-learn compatibility (necessary for some cleanlab methods)\n",
    "#  we adapt the PyTorch neural net using skorch.\n",
    "model_skorch = NeuralNetClassifier(ClassifierModule)\n",
    "\n",
    "# Fit model to train data and score on test!\n",
    "model_skorch.fit(X_train, y_train)\n",
    "\n",
    "# Predict to get submission.\n",
    "preds = model_skorch.predict(X_test)"
   ]
  },
  {
   "cell_type": "markdown",
   "id": "5a171c09",
   "metadata": {},
   "source": [
    "# Get out-of-sample predicted probabilities"
   ]
  },
  {
   "cell_type": "code",
   "execution_count": 6,
   "id": "433796e1",
   "metadata": {},
   "outputs": [
    {
     "name": "stderr",
     "output_type": "stream",
     "text": [
      "/usr/local/lib/python3.10/site-packages/torch/nn/modules/lazy.py:180: UserWarning: Lazy modules are a new feature under heavy development so changes to the API or functionality can happen at any moment.\n",
      "  warnings.warn('Lazy modules are a new feature under heavy development '\n"
     ]
    },
    {
     "name": "stdout",
     "output_type": "stream",
     "text": [
      "  epoch    train_loss    valid_acc    valid_loss     dur\n",
      "-------  ------------  -----------  ------------  ------\n",
      "      1        \u001B[36m3.4900\u001B[0m       \u001B[32m0.0578\u001B[0m        \u001B[35m3.4571\u001B[0m  2.9662\n",
      "      2        \u001B[36m3.3786\u001B[0m       \u001B[32m0.1030\u001B[0m        \u001B[35m3.3819\u001B[0m  3.0101\n",
      "      3        \u001B[36m3.2435\u001B[0m       \u001B[32m0.1502\u001B[0m        \u001B[35m3.2556\u001B[0m  2.6175\n",
      "      4        \u001B[36m3.0386\u001B[0m       \u001B[32m0.2126\u001B[0m        \u001B[35m3.0500\u001B[0m  2.6284\n",
      "      5        \u001B[36m2.7691\u001B[0m       \u001B[32m0.2824\u001B[0m        \u001B[35m2.8170\u001B[0m  2.5305\n",
      "      6        \u001B[36m2.5002\u001B[0m       \u001B[32m0.3336\u001B[0m        \u001B[35m2.6181\u001B[0m  2.4979\n",
      "      7        \u001B[36m2.2746\u001B[0m       \u001B[32m0.3807\u001B[0m        \u001B[35m2.4801\u001B[0m  3.0961\n",
      "      8        \u001B[36m2.0906\u001B[0m       \u001B[32m0.4219\u001B[0m        \u001B[35m2.3818\u001B[0m  3.3760\n",
      "      9        \u001B[36m1.9335\u001B[0m       \u001B[32m0.4458\u001B[0m        \u001B[35m2.3141\u001B[0m  2.9809\n",
      "     10        \u001B[36m1.7925\u001B[0m       \u001B[32m0.4678\u001B[0m        \u001B[35m2.2660\u001B[0m  2.6018\n"
     ]
    },
    {
     "name": "stderr",
     "output_type": "stream",
     "text": [
      "/usr/local/lib/python3.10/site-packages/torch/nn/modules/lazy.py:180: UserWarning: Lazy modules are a new feature under heavy development so changes to the API or functionality can happen at any moment.\n",
      "  warnings.warn('Lazy modules are a new feature under heavy development '\n"
     ]
    },
    {
     "name": "stdout",
     "output_type": "stream",
     "text": [
      "  epoch    train_loss    valid_acc    valid_loss     dur\n",
      "-------  ------------  -----------  ------------  ------\n",
      "      1        \u001B[36m3.5044\u001B[0m       \u001B[32m0.0532\u001B[0m        \u001B[35m3.4781\u001B[0m  3.0351\n",
      "      2        \u001B[36m3.4044\u001B[0m       \u001B[32m0.1037\u001B[0m        \u001B[35m3.3897\u001B[0m  3.0424\n",
      "      3        \u001B[36m3.2545\u001B[0m       \u001B[32m0.1894\u001B[0m        \u001B[35m3.2194\u001B[0m  2.4354\n",
      "      4        \u001B[36m2.9802\u001B[0m       \u001B[32m0.2711\u001B[0m        \u001B[35m2.9233\u001B[0m  2.4052\n",
      "      5        \u001B[36m2.6693\u001B[0m       \u001B[32m0.3482\u001B[0m        \u001B[35m2.6652\u001B[0m  2.4599\n",
      "      6        \u001B[36m2.4134\u001B[0m       \u001B[32m0.4013\u001B[0m        \u001B[35m2.5111\u001B[0m  2.4279\n",
      "      7        \u001B[36m2.2205\u001B[0m       \u001B[32m0.4439\u001B[0m        \u001B[35m2.4091\u001B[0m  2.4113\n",
      "      8        \u001B[36m2.0665\u001B[0m       \u001B[32m0.4764\u001B[0m        \u001B[35m2.3348\u001B[0m  2.5683\n",
      "      9        \u001B[36m1.9339\u001B[0m       \u001B[32m0.4957\u001B[0m        \u001B[35m2.2790\u001B[0m  2.9049\n",
      "     10        \u001B[36m1.8130\u001B[0m       \u001B[32m0.5083\u001B[0m        \u001B[35m2.2375\u001B[0m  2.8343\n"
     ]
    },
    {
     "name": "stderr",
     "output_type": "stream",
     "text": [
      "/usr/local/lib/python3.10/site-packages/torch/nn/modules/lazy.py:180: UserWarning: Lazy modules are a new feature under heavy development so changes to the API or functionality can happen at any moment.\n",
      "  warnings.warn('Lazy modules are a new feature under heavy development '\n"
     ]
    },
    {
     "name": "stdout",
     "output_type": "stream",
     "text": [
      "  epoch    train_loss    valid_acc    valid_loss     dur\n",
      "-------  ------------  -----------  ------------  ------\n",
      "      1        \u001B[36m3.4730\u001B[0m       \u001B[32m0.0538\u001B[0m        \u001B[35m3.4606\u001B[0m  3.2672\n",
      "      2        \u001B[36m3.2951\u001B[0m       \u001B[32m0.0963\u001B[0m        \u001B[35m3.2628\u001B[0m  2.4927\n",
      "      3        \u001B[36m2.9996\u001B[0m       \u001B[32m0.2664\u001B[0m        \u001B[35m2.9399\u001B[0m  2.2947\n",
      "      4        \u001B[36m2.7182\u001B[0m       \u001B[32m0.3216\u001B[0m        \u001B[35m2.7521\u001B[0m  3.1625\n",
      "      5        \u001B[36m2.4961\u001B[0m       \u001B[32m0.3781\u001B[0m        \u001B[35m2.6129\u001B[0m  3.9436\n",
      "      6        \u001B[36m2.3168\u001B[0m       \u001B[32m0.4040\u001B[0m        \u001B[35m2.5109\u001B[0m  3.8661\n",
      "      7        \u001B[36m2.1654\u001B[0m       \u001B[32m0.4346\u001B[0m        \u001B[35m2.4338\u001B[0m  4.0365\n",
      "      8        \u001B[36m2.0314\u001B[0m       \u001B[32m0.4598\u001B[0m        \u001B[35m2.3706\u001B[0m  3.5627\n",
      "      9        \u001B[36m1.9081\u001B[0m       \u001B[32m0.4751\u001B[0m        \u001B[35m2.3181\u001B[0m  2.4744\n",
      "     10        \u001B[36m1.7912\u001B[0m       \u001B[32m0.4897\u001B[0m        \u001B[35m2.2781\u001B[0m  2.4317\n"
     ]
    },
    {
     "name": "stderr",
     "output_type": "stream",
     "text": [
      "/usr/local/lib/python3.10/site-packages/torch/nn/modules/lazy.py:180: UserWarning: Lazy modules are a new feature under heavy development so changes to the API or functionality can happen at any moment.\n",
      "  warnings.warn('Lazy modules are a new feature under heavy development '\n"
     ]
    },
    {
     "name": "stdout",
     "output_type": "stream",
     "text": [
      "  epoch    train_loss    valid_acc    valid_loss     dur\n",
      "-------  ------------  -----------  ------------  ------\n",
      "      1        \u001B[36m3.4646\u001B[0m       \u001B[32m0.0458\u001B[0m        \u001B[35m3.4991\u001B[0m  2.5229\n",
      "      2        \u001B[36m3.2707\u001B[0m       \u001B[32m0.1130\u001B[0m        \u001B[35m3.2408\u001B[0m  2.6884\n",
      "      3        \u001B[36m2.9550\u001B[0m       \u001B[32m0.2771\u001B[0m        \u001B[35m2.8872\u001B[0m  2.2284\n",
      "      4        \u001B[36m2.6295\u001B[0m       \u001B[32m0.3548\u001B[0m        \u001B[35m2.6601\u001B[0m  2.2464\n",
      "      5        \u001B[36m2.3852\u001B[0m       \u001B[32m0.4153\u001B[0m        \u001B[35m2.5194\u001B[0m  2.3109\n",
      "      6        \u001B[36m2.1977\u001B[0m       \u001B[32m0.4512\u001B[0m        \u001B[35m2.4151\u001B[0m  2.3096\n",
      "      7        \u001B[36m2.0409\u001B[0m       \u001B[32m0.4837\u001B[0m        \u001B[35m2.3333\u001B[0m  2.2834\n",
      "      8        \u001B[36m1.9033\u001B[0m       \u001B[32m0.5083\u001B[0m        \u001B[35m2.2746\u001B[0m  2.3092\n",
      "      9        \u001B[36m1.7776\u001B[0m       \u001B[32m0.5276\u001B[0m        \u001B[35m2.2298\u001B[0m  3.5115\n",
      "     10        \u001B[36m1.6607\u001B[0m       \u001B[32m0.5422\u001B[0m        \u001B[35m2.1968\u001B[0m  4.3143\n"
     ]
    },
    {
     "name": "stderr",
     "output_type": "stream",
     "text": [
      "/usr/local/lib/python3.10/site-packages/torch/nn/modules/lazy.py:180: UserWarning: Lazy modules are a new feature under heavy development so changes to the API or functionality can happen at any moment.\n",
      "  warnings.warn('Lazy modules are a new feature under heavy development '\n"
     ]
    },
    {
     "name": "stdout",
     "output_type": "stream",
     "text": [
      "  epoch    train_loss    valid_acc    valid_loss     dur\n",
      "-------  ------------  -----------  ------------  ------\n",
      "      1        \u001B[36m3.4966\u001B[0m       \u001B[32m0.0365\u001B[0m        \u001B[35m3.4894\u001B[0m  3.8904\n",
      "      2        \u001B[36m3.4003\u001B[0m       \u001B[32m0.0605\u001B[0m        \u001B[35m3.4446\u001B[0m  3.9457\n",
      "      3        \u001B[36m3.2391\u001B[0m       \u001B[32m0.1256\u001B[0m        \u001B[35m3.2752\u001B[0m  3.9453\n",
      "      4        \u001B[36m2.9868\u001B[0m       \u001B[32m0.2113\u001B[0m        \u001B[35m3.0654\u001B[0m  2.5871\n",
      "      5        \u001B[36m2.7111\u001B[0m       \u001B[32m0.2771\u001B[0m        \u001B[35m2.8748\u001B[0m  2.3966\n",
      "      6        \u001B[36m2.4741\u001B[0m       \u001B[32m0.3329\u001B[0m        \u001B[35m2.7197\u001B[0m  2.4068\n",
      "      7        \u001B[36m2.2754\u001B[0m       \u001B[32m0.3821\u001B[0m        \u001B[35m2.5974\u001B[0m  2.3775\n",
      "      8        \u001B[36m2.1032\u001B[0m       \u001B[32m0.4239\u001B[0m        \u001B[35m2.5010\u001B[0m  2.3734\n",
      "      9        \u001B[36m1.9489\u001B[0m       \u001B[32m0.4532\u001B[0m        \u001B[35m2.4279\u001B[0m  2.4112\n",
      "     10        \u001B[36m1.8079\u001B[0m       \u001B[32m0.4711\u001B[0m        \u001B[35m2.3727\u001B[0m  2.4199\n"
     ]
    },
    {
     "data": {
      "text/plain": [
       "0.49181025313763027"
      ]
     },
     "execution_count": 6,
     "metadata": {},
     "output_type": "execute_result"
    }
   ],
   "source": [
    "# Get out-of-sample predicted probabilities for training data to pass into cleanlab.\n",
    "pred_probs = cross_val_predict(model_skorch,X_train,y_train,method=\"predict_proba\")\n",
    "# Cross validation accuracy on training data.\n",
    "cross_val_preds = np.argmax(pred_probs, axis=1)\n",
    "acc = accuracy_score(y_train, cross_val_preds)\n",
    "acc"
   ]
  },
  {
   "cell_type": "markdown",
   "id": "4ca2d184",
   "metadata": {},
   "source": [
    "# Find Outliers"
   ]
  },
  {
   "cell_type": "code",
   "execution_count": 20,
   "id": "5a84a37b",
   "metadata": {},
   "outputs": [
    {
     "ename": "NameError",
     "evalue": "name 'pred_probs' is not defined",
     "output_type": "error",
     "traceback": [
      "\u001B[0;31m---------------------------------------------------------------------------\u001B[0m",
      "\u001B[0;31mNameError\u001B[0m                                 Traceback (most recent call last)",
      "Input \u001B[0;32mIn [20]\u001B[0m, in \u001B[0;36m<cell line: 11>\u001B[0;34m()\u001B[0m\n\u001B[1;32m      9\u001B[0m ood \u001B[38;5;241m=\u001B[39m OutOfDistribution()\n\u001B[1;32m     10\u001B[0m labels \u001B[38;5;241m=\u001B[39m y_train\n\u001B[0;32m---> 11\u001B[0m ood_scores \u001B[38;5;241m=\u001B[39m ood\u001B[38;5;241m.\u001B[39mfit_score(pred_probs\u001B[38;5;241m=\u001B[39m\u001B[43mpred_probs\u001B[49m, labels\u001B[38;5;241m=\u001B[39mlabels)\n\u001B[1;32m     12\u001B[0m ood_idx \u001B[38;5;241m=\u001B[39m find_top_issues(ood_scores, top\u001B[38;5;241m=\u001B[39m\u001B[38;5;241m300\u001B[39m)\n\u001B[1;32m     14\u001B[0m \u001B[38;5;66;03m# Show the top 5.\u001B[39;00m\n",
      "\u001B[0;31mNameError\u001B[0m: name 'pred_probs' is not defined"
     ]
    }
   ],
   "source": [
    "from cleanlab.outlier import OutOfDistribution\n",
    "from cleanlab.rank import find_top_issues\n",
    "\n",
    "# Use To get outlier scores for train_data using \n",
    "#  predicted class probabilities (from a trained classifier) \n",
    "#  and given class labels\n",
    "# Note: all of these are not necessarily outliers. You'll need to improve model performance to get better \n",
    "# outlier preditions.\n",
    "ood = OutOfDistribution()\n",
    "labels = y_train\n",
    "ood_scores = ood.fit_score(pred_probs=pred_probs, labels=labels)\n",
    "ood_idx = find_top_issues(ood_scores, top=300)\n",
    "\n",
    "# Show the top 5.\n",
    "top_ood = train_df.iloc[ood_idx][:5]\n",
    "for img in top_ood['img']:\n",
    "    display(Image.open(path_to_train_imgs+img))"
   ]
  },
  {
   "cell_type": "markdown",
   "id": "cd0f316d",
   "metadata": {},
   "source": [
    "# Find Label Issues"
   ]
  },
  {
   "cell_type": "code",
   "execution_count": 8,
   "id": "23a2f9c2",
   "metadata": {},
   "outputs": [
    {
     "name": "stdout",
     "output_type": "stream",
     "text": [
      "Given Label: 2\n"
     ]
    },
    {
     "data": {
      "image/png": "[encoded data removed]",
      "text/plain": [
       "<PIL.PngImagePlugin.PngImageFile image mode=1 size=60x60>"
      ]
     },
     "metadata": {},
     "output_type": "display_data"
    },
    {
     "name": "stdout",
     "output_type": "stream",
     "text": [
      "Given Label: 2\n"
     ]
    },
    {
     "data": {
      "image/png": "[encoded data removed]",
      "text/plain": [
       "<PIL.PngImagePlugin.PngImageFile image mode=1 size=60x60>"
      ]
     },
     "metadata": {},
     "output_type": "display_data"
    },
    {
     "name": "stdout",
     "output_type": "stream",
     "text": [
      "Given Label: j\n"
     ]
    },
    {
     "data": {
      "image/png": "[encoded data removed]",
      "text/plain": [
       "<PIL.PngImagePlugin.PngImageFile image mode=1 size=60x60>"
      ]
     },
     "metadata": {},
     "output_type": "display_data"
    },
    {
     "name": "stdout",
     "output_type": "stream",
     "text": [
      "Given Label: j\n"
     ]
    },
    {
     "data": {
      "image/png": "[encoded data removed]",
      "text/plain": [
       "<PIL.PngImagePlugin.PngImageFile image mode=1 size=60x60>"
      ]
     },
     "metadata": {},
     "output_type": "display_data"
    },
    {
     "name": "stdout",
     "output_type": "stream",
     "text": [
      "Given Label: x\n"
     ]
    },
    {
     "data": {
      "image/png": "[encoded data removed]",
      "text/plain": [
       "<PIL.PngImagePlugin.PngImageFile image mode=1 size=60x60>"
      ]
     },
     "metadata": {},
     "output_type": "display_data"
    }
   ],
   "source": [
    "from cleanlab.filter import find_label_issues\n",
    "\n",
    "# Compute label issues and get their indices.\n",
    "# Note: all of these are not necessarily label errors. You'll need to improve model performance to get better \n",
    "# label preditions.\n",
    "labels = y_train\n",
    "issues_idx = find_label_issues(labels=labels, pred_probs=pred_probs, return_indices_ranked_by='self_confidence')\n",
    "\n",
    "# Show top 5.\n",
    "for idx in issues_idx[:5]:\n",
    "    row = train_df.iloc[idx]\n",
    "    given_label = row['label']\n",
    "    print(f\"Given Label: {given_label}\")\n",
    "    display(Image.open(path_to_train_imgs+row['img']))"
   ]
  },
  {
   "cell_type": "markdown",
   "id": "f6deb22e",
   "metadata": {},
   "source": [
    "# Train a Better Model!\n",
    "\n",
    "Note: due to the randomness of neural nets, this may decrease, increase, or not change the model performance. \n"
   ]
  },
  {
   "cell_type": "code",
   "execution_count": 9,
   "id": "e48fa68c",
   "metadata": {},
   "outputs": [
    {
     "name": "stderr",
     "output_type": "stream",
     "text": [
      "/usr/local/lib/python3.10/site-packages/torch/nn/modules/lazy.py:180: UserWarning: Lazy modules are a new feature under heavy development so changes to the API or functionality can happen at any moment.\n",
      "  warnings.warn('Lazy modules are a new feature under heavy development '\n"
     ]
    },
    {
     "name": "stdout",
     "output_type": "stream",
     "text": [
      "  epoch    train_loss    valid_acc    valid_loss      dur\n",
      "-------  ------------  -----------  ------------  -------\n",
      "      1        \u001B[36m3.4749\u001B[0m       \u001B[32m0.0596\u001B[0m        \u001B[35m3.4627\u001B[0m  12.6152\n",
      "      2        \u001B[36m3.3101\u001B[0m       \u001B[32m0.1708\u001B[0m        \u001B[35m3.2437\u001B[0m  3.8359\n",
      "      3        \u001B[36m2.9968\u001B[0m       \u001B[32m0.2900\u001B[0m        \u001B[35m2.8569\u001B[0m  3.5849\n",
      "      4        \u001B[36m2.4612\u001B[0m       \u001B[32m0.4142\u001B[0m        \u001B[35m2.3706\u001B[0m  3.0567\n",
      "      5        \u001B[36m1.9235\u001B[0m       \u001B[32m0.5188\u001B[0m        \u001B[35m1.9672\u001B[0m  2.9142\n",
      "      6        \u001B[36m1.5205\u001B[0m       \u001B[32m0.5948\u001B[0m        \u001B[35m1.6865\u001B[0m  2.9341\n",
      "      7        \u001B[36m1.2438\u001B[0m       \u001B[32m0.6438\u001B[0m        \u001B[35m1.5172\u001B[0m  2.6860\n",
      "      8        \u001B[36m1.0485\u001B[0m       \u001B[32m0.6797\u001B[0m        \u001B[35m1.4007\u001B[0m  2.4839\n",
      "      9        \u001B[36m0.9027\u001B[0m       \u001B[32m0.7092\u001B[0m        \u001B[35m1.3133\u001B[0m  1.9900\n",
      "     10        \u001B[36m0.7881\u001B[0m       \u001B[32m0.7296\u001B[0m        \u001B[35m1.2473\u001B[0m  2.1116\n"
     ]
    }
   ],
   "source": [
    "# Combine outliers and label issues (some overlap).\n",
    "all_issues_idx = np.union1d(ood_idx, issues_idx)\n",
    "\n",
    "# Drop all issues from training data.\n",
    "X_train_clean = np.delete(X_train, all_issues_idx, axis=0)\n",
    "y_train_clean = np.delete(y_train, all_issues_idx, axis=0)\n",
    "\n",
    "#Re-train model on data with issues removed.\n",
    "model_skorch = NeuralNetClassifier(ClassifierModule)\n",
    "model_skorch.fit(X_train_clean, y_train_clean)\n",
    "\n",
    "# Predict to get submission.\n",
    "preds = model_skorch.predict(X_test)"
   ]
  },
  {
   "cell_type": "markdown",
   "id": "4fdc0bfa",
   "metadata": {},
   "source": [
    "# Food for Thought\n",
    "\n",
    "- The basic NN classifier used to find the `pred_probs` was not very accurate - improving this classifier might improve quality of issues and outliers found, too.\n",
    "- Here we just dropped all of the issues and outliers, what else could you do?\n",
    "- Other useful modules:\n",
    "    - [cleanlab.classification](https://github.com/cleanlab/cleanlab/blob/master/cleanlab/classification.py)\n",
    "- Resources:\n",
    "    - [GitHub](https://github.com/cleanlab/cleanlab)\n",
    "    - [Docs](https://docs.cleanlab.ai/stable/index.html)\n",
    "    \n"
   ]
  }
 ],
 "metadata": {
  "kernelspec": {
   "display_name": "Python 3 (ipykernel)",
   "language": "python",
   "name": "python3"
  },
  "language_info": {
   "codemirror_mode": {
    "name": "ipython",
    "version": 3
   },
   "file_extension": ".py",
   "mimetype": "text/x-python",
   "name": "python",
   "nbconvert_exporter": "python",
   "pygments_lexer": "ipython3",
   "version": "3.10.8"
  }
 },
 "nbformat": 4,
 "nbformat_minor": 5
}
